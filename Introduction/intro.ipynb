{
 "cells": [
  {
   "cell_type": "markdown",
   "id": "724474c9",
   "metadata": {},
   "source": [
    "### Introduction of DeepEval"
   ]
  },
  {
   "cell_type": "code",
   "execution_count": null,
   "id": "87800319",
   "metadata": {},
   "outputs": [],
   "source": [
    "! pip install -U deepeval"
   ]
  },
  {
   "cell_type": "markdown",
   "id": "2ac0782e",
   "metadata": {},
   "source": [
    "### Create Confident AI Login"
   ]
  },
  {
   "cell_type": "code",
   "execution_count": null,
   "id": "4263deca",
   "metadata": {},
   "outputs": [],
   "source": []
  },
  {
   "cell_type": "code",
   "execution_count": 2,
   "id": "cdbaad63",
   "metadata": {},
   "outputs": [
    {
     "data": {
      "text/plain": [
       "True"
      ]
     },
     "execution_count": 2,
     "metadata": {},
     "output_type": "execute_result"
    }
   ],
   "source": [
    "from dotenv import load_dotenv\n",
    "load_dotenv()  # take environment variables from .env."
   ]
  },
  {
   "cell_type": "markdown",
   "id": "48227614",
   "metadata": {},
   "source": [
    "### First Deepeval code"
   ]
  },
  {
   "cell_type": "code",
   "execution_count": null,
   "id": "45f769a9",
   "metadata": {},
   "outputs": [
    {
     "data": {
      "text/html": [
       "<pre style=\"white-space:pre;overflow-x:auto;line-height:normal;font-family:Menlo,'DejaVu Sans Mono',consolas,'Courier New',monospace\">/Users/obhi/Documents/DeepEval/Project1/myenv/lib/python3.13/site-packages/rich/live.py:256: UserWarning: install \n",
       "\"ipywidgets\" for Jupyter support\n",
       "  warnings.warn('install \"ipywidgets\" for Jupyter support')\n",
       "</pre>\n"
      ],
      "text/plain": [
       "/Users/obhi/Documents/DeepEval/Project1/myenv/lib/python3.13/site-packages/rich/live.py:256: UserWarning: install \n",
       "\"ipywidgets\" for Jupyter support\n",
       "  warnings.warn('install \"ipywidgets\" for Jupyter support')\n"
      ]
     },
     "metadata": {},
     "output_type": "display_data"
    },
    {
     "data": {
      "text/html": [
       "<pre style=\"white-space:pre;overflow-x:auto;line-height:normal;font-family:Menlo,'DejaVu Sans Mono',consolas,'Courier New',monospace\"></pre>\n"
      ],
      "text/plain": []
     },
     "metadata": {},
     "output_type": "display_data"
    },
    {
     "ename": "AttributeError",
     "evalue": "'float' object has no attribute 'score'",
     "output_type": "error",
     "traceback": [
      "\u001b[31m---------------------------------------------------------------------------\u001b[39m",
      "\u001b[31mAttributeError\u001b[39m                            Traceback (most recent call last)",
      "\u001b[36mCell\u001b[39m\u001b[36m \u001b[39m\u001b[32mIn[4]\u001b[39m\u001b[32m, line 12\u001b[39m\n\u001b[32m      5\u001b[39m test_case = LLMTestCase(\n\u001b[32m      6\u001b[39m     \u001b[38;5;28minput\u001b[39m = \u001b[33m\"\u001b[39m\u001b[33mWhat is the capital of France?\u001b[39m\u001b[33m\"\u001b[39m,\n\u001b[32m      7\u001b[39m     actual_output=\u001b[33m\"\u001b[39m\u001b[33mParis\u001b[39m\u001b[33m\"\u001b[39m,\n\u001b[32m      8\u001b[39m     retrieval_context=[\u001b[33m\"\u001b[39m\u001b[33mFrance\u001b[39m\u001b[33m'\u001b[39m\u001b[33ms capital city is Paris, known for its art, fashion, gastronomy, and culture.\u001b[39m\u001b[33m\"\u001b[39m]\n\u001b[32m      9\u001b[39m )\n\u001b[32m     11\u001b[39m result = arm.measure(test_case)\n\u001b[32m---> \u001b[39m\u001b[32m12\u001b[39m \u001b[38;5;28mprint\u001b[39m(\u001b[33mf\u001b[39m\u001b[33m\"\u001b[39m\u001b[33mAnswer Relevancy Score: \u001b[39m\u001b[38;5;132;01m{\u001b[39;00m\u001b[43mresult\u001b[49m\u001b[43m.\u001b[49m\u001b[43mscore\u001b[49m\u001b[38;5;132;01m}\u001b[39;00m\u001b[33m\"\u001b[39m)\n",
      "\u001b[31mAttributeError\u001b[39m: 'float' object has no attribute 'score'"
     ]
    }
   ],
   "source": [
    "from deepeval.test_case import LLMTestCase\n",
    "from deepeval.metrics import AnswerRelevancyMetric\n",
    "\n",
    "arm = AnswerRelevancyMetric()\n",
    "test_case = LLMTestCase(\n",
    "    input = \"What is the capital of France?\",\n",
    "    actual_output=\"Paris\",\n",
    "    retrieval_context=[\"France's capital city is Paris, known for its art, fashion, gastronomy, and culture.\"]\n",
    ")\n",
    "\n",
    "arm.measure(test_case)\n",
    "print(f\"Answer Relevancy Score: {arm.score}\")"
   ]
  },
  {
   "cell_type": "code",
   "execution_count": null,
   "id": "ae5a6899",
   "metadata": {},
   "outputs": [],
   "source": []
  }
 ],
 "metadata": {
  "kernelspec": {
   "display_name": "myenv",
   "language": "python",
   "name": "python3"
  },
  "language_info": {
   "codemirror_mode": {
    "name": "ipython",
    "version": 3
   },
   "file_extension": ".py",
   "mimetype": "text/x-python",
   "name": "python",
   "nbconvert_exporter": "python",
   "pygments_lexer": "ipython3",
   "version": "3.13.6"
  }
 },
 "nbformat": 4,
 "nbformat_minor": 5
}

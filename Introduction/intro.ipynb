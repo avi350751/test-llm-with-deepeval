{
 "cells": [
  {
   "cell_type": "markdown",
   "id": "724474c9",
   "metadata": {},
   "source": [
    "### Introduction of DeepEval"
   ]
  },
  {
   "cell_type": "code",
   "execution_count": null,
   "id": "87800319",
   "metadata": {},
   "outputs": [],
   "source": [
    "! pip install -U deepeval"
   ]
  },
  {
   "cell_type": "markdown",
   "id": "2ac0782e",
   "metadata": {},
   "source": [
    "### Create Confident AI Login"
   ]
  },
  {
   "cell_type": "code",
   "execution_count": null,
   "id": "4263deca",
   "metadata": {},
   "outputs": [],
   "source": []
  },
  {
   "cell_type": "code",
   "execution_count": 2,
   "id": "cdbaad63",
   "metadata": {},
   "outputs": [
    {
     "data": {
      "text/plain": [
       "True"
      ]
     },
     "execution_count": 2,
     "metadata": {},
     "output_type": "execute_result"
    }
   ],
   "source": [
    "from dotenv import load_dotenv\n",
    "load_dotenv()  # take environment variables from .env."
   ]
  },
  {
   "cell_type": "markdown",
   "id": "48227614",
   "metadata": {},
   "source": [
    "### First Deepeval code -- Answer Relevancy Metric"
   ]
  },
  {
   "cell_type": "code",
   "execution_count": 5,
   "id": "45f769a9",
   "metadata": {},
   "outputs": [
    {
     "data": {
      "text/html": [
       "<pre style=\"white-space:pre;overflow-x:auto;line-height:normal;font-family:Menlo,'DejaVu Sans Mono',consolas,'Courier New',monospace\">/Users/obhi/Documents/DeepEval/Project1/myenv/lib/python3.13/site-packages/rich/live.py:256: UserWarning: install \n",
       "\"ipywidgets\" for Jupyter support\n",
       "  warnings.warn('install \"ipywidgets\" for Jupyter support')\n",
       "</pre>\n"
      ],
      "text/plain": [
       "/Users/obhi/Documents/DeepEval/Project1/myenv/lib/python3.13/site-packages/rich/live.py:256: UserWarning: install \n",
       "\"ipywidgets\" for Jupyter support\n",
       "  warnings.warn('install \"ipywidgets\" for Jupyter support')\n"
      ]
     },
     "metadata": {},
     "output_type": "display_data"
    },
    {
     "data": {
      "text/html": [
       "<pre style=\"white-space:pre;overflow-x:auto;line-height:normal;font-family:Menlo,'DejaVu Sans Mono',consolas,'Courier New',monospace\"></pre>\n"
      ],
      "text/plain": []
     },
     "metadata": {},
     "output_type": "display_data"
    },
    {
     "name": "stdout",
     "output_type": "stream",
     "text": [
      "Answer Relevancy Score: 1.0\n"
     ]
    }
   ],
   "source": [
    "from deepeval.test_case import LLMTestCase\n",
    "from deepeval.metrics import AnswerRelevancyMetric\n",
    "\n",
    "arm = AnswerRelevancyMetric()\n",
    "test_case = LLMTestCase(\n",
    "    input = \"What is the capital of France?\",\n",
    "    actual_output=\"Paris\",\n",
    "    retrieval_context=[\"France's capital city is Paris, known for its art, fashion, gastronomy, and culture.\"]\n",
    ")\n",
    "\n",
    "arm.measure(test_case)\n",
    "print(f\"Answer Relevancy Score: {arm.score}\")"
   ]
  },
  {
   "cell_type": "markdown",
   "id": "f6eb2637",
   "metadata": {},
   "source": [
    "### Contextual Precision Metric"
   ]
  },
  {
   "cell_type": "code",
   "execution_count": 12,
   "id": "ae5a6899",
   "metadata": {},
   "outputs": [
    {
     "data": {
      "application/vnd.jupyter.widget-view+json": {
       "model_id": "e63d2f4a2ceb42ff8df075a1f934f5f2",
       "version_major": 2,
       "version_minor": 0
      },
      "text/plain": [
       "Output()"
      ]
     },
     "metadata": {},
     "output_type": "display_data"
    },
    {
     "data": {
      "text/html": [
       "<pre style=\"white-space:pre;overflow-x:auto;line-height:normal;font-family:Menlo,'DejaVu Sans Mono',consolas,'Courier New',monospace\"></pre>\n"
      ],
      "text/plain": []
     },
     "metadata": {},
     "output_type": "display_data"
    },
    {
     "name": "stdout",
     "output_type": "stream",
     "text": [
      "Contextual Precision Score: 1.0\n",
      "CPM success: True\n"
     ]
    }
   ],
   "source": [
    "from deepeval.test_case import LLMTestCase\n",
    "from deepeval.metrics import ContextualPrecisionMetric\n",
    "\n",
    "cpm = ContextualPrecisionMetric()\n",
    "test_case = LLMTestCase(\n",
    "    input = \"What is the capital of Argentina?\",\n",
    "    actual_output=\"Buenos Aires\",\n",
    "    retrieval_context=[\"Argentina's capital city is Buenos Aires, famous for its European-style architecture and rich cultural life.\"],\n",
    "    expected_output=\"Buenos Aires\"\n",
    ")\n",
    "\n",
    "cpm.measure(test_case)\n",
    "print(f\"Contextual Precision Score: {cpm.score}\")\n",
    "print(f\"CPM success: {cpm.success}\")"
   ]
  },
  {
   "cell_type": "markdown",
   "id": "babfd2e3",
   "metadata": {},
   "source": [
    "### Faithfulness Metric"
   ]
  },
  {
   "cell_type": "code",
   "execution_count": null,
   "id": "21effc4b",
   "metadata": {},
   "outputs": [
    {
     "ename": "MissingTestCaseParamsError",
     "evalue": "'retrieval_context' cannot be None for the 'Faithfulness' metric",
     "output_type": "error",
     "traceback": [
      "\u001b[31m---------------------------------------------------------------------------\u001b[39m",
      "\u001b[31mMissingTestCaseParamsError\u001b[39m                Traceback (most recent call last)",
      "\u001b[36mCell\u001b[39m\u001b[36m \u001b[39m\u001b[32mIn[14]\u001b[39m\u001b[32m, line 11\u001b[39m\n\u001b[32m      4\u001b[39m fm = FaithfulnessMetric()\n\u001b[32m      5\u001b[39m test_case = LLMTestCase(\n\u001b[32m      6\u001b[39m     \u001b[38;5;28minput\u001b[39m = \u001b[33m\"\u001b[39m\u001b[33mWho wrote \u001b[39m\u001b[33m'\u001b[39m\u001b[33mPride and Prejudice\u001b[39m\u001b[33m'\u001b[39m\u001b[33m?\u001b[39m\u001b[33m\"\u001b[39m,\n\u001b[32m      7\u001b[39m     actual_output=\u001b[33m\"\u001b[39m\u001b[33mJane Austen\u001b[39m\u001b[33m\"\u001b[39m,\n\u001b[32m      8\u001b[39m     expected_output=\u001b[33m\"\u001b[39m\u001b[33mJane Austen\u001b[39m\u001b[33m\"\u001b[39m\n\u001b[32m      9\u001b[39m )\n\u001b[32m---> \u001b[39m\u001b[32m11\u001b[39m \u001b[43mfm\u001b[49m\u001b[43m.\u001b[49m\u001b[43mmeasure\u001b[49m\u001b[43m(\u001b[49m\u001b[43mtest_case\u001b[49m\u001b[43m)\u001b[49m\n\u001b[32m     12\u001b[39m \u001b[38;5;28mprint\u001b[39m(\u001b[33mf\u001b[39m\u001b[33m\"\u001b[39m\u001b[33mFaithfulness score: \u001b[39m\u001b[38;5;132;01m{\u001b[39;00mfm.score\u001b[38;5;132;01m}\u001b[39;00m\u001b[33m\"\u001b[39m)\n\u001b[32m     13\u001b[39m \u001b[38;5;28mprint\u001b[39m(\u001b[33mf\u001b[39m\u001b[33m\"\u001b[39m\u001b[33mFaithfulness success: \u001b[39m\u001b[38;5;132;01m{\u001b[39;00mfm.success\u001b[38;5;132;01m}\u001b[39;00m\u001b[33m\"\u001b[39m)\n",
      "\u001b[36mFile \u001b[39m\u001b[32m~/Documents/DeepEval/Project1/myenv/lib/python3.13/site-packages/deepeval/metrics/faithfulness/faithfulness.py:70\u001b[39m, in \u001b[36mFaithfulnessMetric.measure\u001b[39m\u001b[34m(self, test_case, _show_indicator, _in_component, _log_metric_to_confident)\u001b[39m\n\u001b[32m     62\u001b[39m \u001b[38;5;28;01mdef\u001b[39;00m\u001b[38;5;250m \u001b[39m\u001b[34mmeasure\u001b[39m(\n\u001b[32m     63\u001b[39m     \u001b[38;5;28mself\u001b[39m,\n\u001b[32m     64\u001b[39m     test_case: LLMTestCase,\n\u001b[32m   (...)\u001b[39m\u001b[32m     67\u001b[39m     _log_metric_to_confident: \u001b[38;5;28mbool\u001b[39m = \u001b[38;5;28;01mTrue\u001b[39;00m,\n\u001b[32m     68\u001b[39m ) -> \u001b[38;5;28mfloat\u001b[39m:\n\u001b[32m---> \u001b[39m\u001b[32m70\u001b[39m     \u001b[43mcheck_llm_test_case_params\u001b[49m\u001b[43m(\u001b[49m\u001b[43mtest_case\u001b[49m\u001b[43m,\u001b[49m\u001b[43m \u001b[49m\u001b[38;5;28;43mself\u001b[39;49m\u001b[43m.\u001b[49m\u001b[43m_required_params\u001b[49m\u001b[43m,\u001b[49m\u001b[43m \u001b[49m\u001b[38;5;28;43mself\u001b[39;49m\u001b[43m)\u001b[49m\n\u001b[32m     72\u001b[39m     \u001b[38;5;28mself\u001b[39m.evaluation_cost = \u001b[32m0\u001b[39m \u001b[38;5;28;01mif\u001b[39;00m \u001b[38;5;28mself\u001b[39m.using_native_model \u001b[38;5;28;01melse\u001b[39;00m \u001b[38;5;28;01mNone\u001b[39;00m\n\u001b[32m     73\u001b[39m     \u001b[38;5;28;01mwith\u001b[39;00m metric_progress_indicator(\n\u001b[32m     74\u001b[39m         \u001b[38;5;28mself\u001b[39m, _show_indicator=_show_indicator, _in_component=_in_component\n\u001b[32m     75\u001b[39m     ):\n",
      "\u001b[36mFile \u001b[39m\u001b[32m~/Documents/DeepEval/Project1/myenv/lib/python3.13/site-packages/deepeval/metrics/utils.py:260\u001b[39m, in \u001b[36mcheck_llm_test_case_params\u001b[39m\u001b[34m(test_case, test_case_params, metric)\u001b[39m\n\u001b[32m    258\u001b[39m error_str = \u001b[33mf\u001b[39m\u001b[33m\"\u001b[39m\u001b[38;5;132;01m{\u001b[39;00mmissing_params_str\u001b[38;5;132;01m}\u001b[39;00m\u001b[33m cannot be None for the \u001b[39m\u001b[33m'\u001b[39m\u001b[38;5;132;01m{\u001b[39;00mmetric.\u001b[34m__name__\u001b[39m\u001b[38;5;132;01m}\u001b[39;00m\u001b[33m'\u001b[39m\u001b[33m metric\u001b[39m\u001b[33m\"\u001b[39m\n\u001b[32m    259\u001b[39m metric.error = error_str\n\u001b[32m--> \u001b[39m\u001b[32m260\u001b[39m \u001b[38;5;28;01mraise\u001b[39;00m MissingTestCaseParamsError(error_str)\n",
      "\u001b[31mMissingTestCaseParamsError\u001b[39m: 'retrieval_context' cannot be None for the 'Faithfulness' metric"
     ]
    }
   ],
   "source": [
    "from deepeval.test_case import LLMTestCase\n",
    "from deepeval.metrics import FaithfulnessMetric\n",
    "\n",
    "fm = FaithfulnessMetric()\n",
    "test_case = LLMTestCase(\n",
    "    input = \"Who wrote 'Pride and Prejudice'?\",\n",
    "    actual_output=\"Jane Austen\",\n",
    "    expected_output=\"Jane Austen\",\n",
    "    retrieval_context=[\"'Pride and Prejudice' is a novel written by Jane Austen, first published in 1813.\"]\n",
    ")\n",
    "\n",
    "fm.measure(test_case)\n",
    "print(f\"Faithfulness score: {fm.score}\")\n",
    "print(f\"Faithfulness success: {fm.success}\")\n"
   ]
  },
  {
   "cell_type": "code",
   "execution_count": null,
   "id": "39a7c8e7",
   "metadata": {},
   "outputs": [],
   "source": []
  }
 ],
 "metadata": {
  "kernelspec": {
   "display_name": "myenv",
   "language": "python",
   "name": "python3"
  },
  "language_info": {
   "codemirror_mode": {
    "name": "ipython",
    "version": 3
   },
   "file_extension": ".py",
   "mimetype": "text/x-python",
   "name": "python",
   "nbconvert_exporter": "python",
   "pygments_lexer": "ipython3",
   "version": "3.13.6"
  }
 },
 "nbformat": 4,
 "nbformat_minor": 5
}

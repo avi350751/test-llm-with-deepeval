{
 "cells": [
  {
   "cell_type": "markdown",
   "id": "724474c9",
   "metadata": {},
   "source": [
    "### Introduction of DeepEval"
   ]
  },
  {
   "cell_type": "code",
   "execution_count": null,
   "id": "87800319",
   "metadata": {},
   "outputs": [],
   "source": [
    "! pip install -U deepeval"
   ]
  },
  {
   "cell_type": "markdown",
   "id": "2ac0782e",
   "metadata": {},
   "source": [
    "### Create Confident AI Login"
   ]
  },
  {
   "cell_type": "code",
   "execution_count": null,
   "id": "4263deca",
   "metadata": {},
   "outputs": [],
   "source": []
  },
  {
   "cell_type": "code",
   "execution_count": 2,
   "id": "cdbaad63",
   "metadata": {},
   "outputs": [
    {
     "data": {
      "text/plain": [
       "True"
      ]
     },
     "execution_count": 2,
     "metadata": {},
     "output_type": "execute_result"
    }
   ],
   "source": [
    "from dotenv import load_dotenv\n",
    "load_dotenv()  # take environment variables from .env."
   ]
  },
  {
   "cell_type": "markdown",
   "id": "48227614",
   "metadata": {},
   "source": [
    "### First Deepeval code -- Answer relevancy metric"
   ]
  },
  {
   "cell_type": "code",
   "execution_count": 5,
   "id": "45f769a9",
   "metadata": {},
   "outputs": [
    {
     "data": {
      "text/html": [
       "<pre style=\"white-space:pre;overflow-x:auto;line-height:normal;font-family:Menlo,'DejaVu Sans Mono',consolas,'Courier New',monospace\">/Users/obhi/Documents/DeepEval/Project1/myenv/lib/python3.13/site-packages/rich/live.py:256: UserWarning: install \n",
       "\"ipywidgets\" for Jupyter support\n",
       "  warnings.warn('install \"ipywidgets\" for Jupyter support')\n",
       "</pre>\n"
      ],
      "text/plain": [
       "/Users/obhi/Documents/DeepEval/Project1/myenv/lib/python3.13/site-packages/rich/live.py:256: UserWarning: install \n",
       "\"ipywidgets\" for Jupyter support\n",
       "  warnings.warn('install \"ipywidgets\" for Jupyter support')\n"
      ]
     },
     "metadata": {},
     "output_type": "display_data"
    },
    {
     "data": {
      "text/html": [
       "<pre style=\"white-space:pre;overflow-x:auto;line-height:normal;font-family:Menlo,'DejaVu Sans Mono',consolas,'Courier New',monospace\"></pre>\n"
      ],
      "text/plain": []
     },
     "metadata": {},
     "output_type": "display_data"
    },
    {
     "name": "stdout",
     "output_type": "stream",
     "text": [
      "Answer Relevancy Score: 1.0\n"
     ]
    }
   ],
   "source": [
    "from deepeval.test_case import LLMTestCase\n",
    "from deepeval.metrics import AnswerRelevancyMetric\n",
    "\n",
    "arm = AnswerRelevancyMetric()\n",
    "test_case = LLMTestCase(\n",
    "    input = \"What is the capital of France?\",\n",
    "    actual_output=\"Paris\",\n",
    "    retrieval_context=[\"France's capital city is Paris, known for its art, fashion, gastronomy, and culture.\"]\n",
    ")\n",
    "\n",
    "arm.measure(test_case)\n",
    "print(f\"Answer Relevancy Score: {arm.score}\")"
   ]
  },
  {
   "cell_type": "markdown",
   "id": "f6eb2637",
   "metadata": {},
   "source": [
    "### Context Precision Metric"
   ]
  },
  {
   "cell_type": "code",
   "execution_count": null,
   "id": "ae5a6899",
   "metadata": {},
   "outputs": [
    {
     "data": {
      "application/vnd.jupyter.widget-view+json": {
       "model_id": "5f3f2d77210c4382a631c2ede7e3d6a2",
       "version_major": 2,
       "version_minor": 0
      },
      "text/plain": [
       "Output()"
      ]
     },
     "metadata": {},
     "output_type": "display_data"
    },
    {
     "data": {
      "text/html": [
       "<pre style=\"white-space:pre;overflow-x:auto;line-height:normal;font-family:Menlo,'DejaVu Sans Mono',consolas,'Courier New',monospace\"></pre>\n"
      ],
      "text/plain": []
     },
     "metadata": {},
     "output_type": "display_data"
    },
    {
     "name": "stdout",
     "output_type": "stream",
     "text": [
      "Contextual Precision Score: 1.0\n",
      "cpm success: True\n"
     ]
    },
    {
     "ename": "AttributeError",
     "evalue": "'ContextualPrecisionMetric' object has no attribute 'explanation'",
     "output_type": "error",
     "traceback": [
      "\u001b[31m---------------------------------------------------------------------------\u001b[39m",
      "\u001b[31mAttributeError\u001b[39m                            Traceback (most recent call last)",
      "\u001b[36mCell\u001b[39m\u001b[36m \u001b[39m\u001b[32mIn[11]\u001b[39m\u001b[32m, line 15\u001b[39m\n\u001b[32m     13\u001b[39m \u001b[38;5;28mprint\u001b[39m(\u001b[33mf\u001b[39m\u001b[33m\"\u001b[39m\u001b[33mContextual Precision Score: \u001b[39m\u001b[38;5;132;01m{\u001b[39;00mcpm.score\u001b[38;5;132;01m}\u001b[39;00m\u001b[33m\"\u001b[39m)\n\u001b[32m     14\u001b[39m \u001b[38;5;28mprint\u001b[39m(\u001b[33mf\u001b[39m\u001b[33m\"\u001b[39m\u001b[33mcpm success: \u001b[39m\u001b[38;5;132;01m{\u001b[39;00mcpm.success\u001b[38;5;132;01m}\u001b[39;00m\u001b[33m\"\u001b[39m)\n\u001b[32m---> \u001b[39m\u001b[32m15\u001b[39m \u001b[38;5;28mprint\u001b[39m(\u001b[33mf\u001b[39m\u001b[33m\"\u001b[39m\u001b[33mcpm explanation: \u001b[39m\u001b[38;5;132;01m{\u001b[39;00m\u001b[43mcpm\u001b[49m\u001b[43m.\u001b[49m\u001b[43mexplanation\u001b[49m\u001b[38;5;132;01m}\u001b[39;00m\u001b[33m\"\u001b[39m)\n",
      "\u001b[31mAttributeError\u001b[39m: 'ContextualPrecisionMetric' object has no attribute 'explanation'"
     ]
    }
   ],
   "source": [
    "from deepeval.test_case import LLMTestCase\n",
    "from deepeval.metrics import ContextualPrecisionMetric\n",
    "\n",
    "cpm = ContextualPrecisionMetric()\n",
    "test_case = LLMTestCase(\n",
    "    input = \"What is the capital of Argentina?\",\n",
    "    actual_output=\"Buenos Aires\",\n",
    "    retrieval_context=[\"Argentina's capital city is Buenos Aires, famous for its European-style architecture and rich cultural life.\"],\n",
    "    expected_output=\"Buenos Aires\"\n",
    ")\n",
    "\n",
    "cpm.measure(test_case)\n",
    "print(f\"Contextual Precision Score: {cpm.score}\")\n",
    "print(f\"CPM success: {cpm.success}\")"
   ]
  },
  {
   "cell_type": "code",
   "execution_count": null,
   "id": "21effc4b",
   "metadata": {},
   "outputs": [],
   "source": []
  }
 ],
 "metadata": {
  "kernelspec": {
   "display_name": "myenv",
   "language": "python",
   "name": "python3"
  },
  "language_info": {
   "codemirror_mode": {
    "name": "ipython",
    "version": 3
   },
   "file_extension": ".py",
   "mimetype": "text/x-python",
   "name": "python",
   "nbconvert_exporter": "python",
   "pygments_lexer": "ipython3",
   "version": "3.13.6"
  }
 },
 "nbformat": 4,
 "nbformat_minor": 5
}

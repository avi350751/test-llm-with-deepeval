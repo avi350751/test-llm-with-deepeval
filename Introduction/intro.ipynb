{
 "cells": [
  {
   "cell_type": "markdown",
   "id": "724474c9",
   "metadata": {},
   "source": [
    "### Introduction of DeepEval"
   ]
  },
  {
   "cell_type": "code",
   "execution_count": null,
   "id": "87800319",
   "metadata": {},
   "outputs": [],
   "source": [
    "! pip install -U deepeval"
   ]
  },
  {
   "cell_type": "markdown",
   "id": "2ac0782e",
   "metadata": {},
   "source": [
    "### Create Confident AI Login"
   ]
  },
  {
   "cell_type": "code",
   "execution_count": null,
   "id": "4263deca",
   "metadata": {},
   "outputs": [],
   "source": []
  },
  {
   "cell_type": "markdown",
   "id": "cdbaad63",
   "metadata": {},
   "source": []
  }
 ],
 "metadata": {
  "kernelspec": {
   "display_name": "myenv",
   "language": "python",
   "name": "python3"
  },
  "language_info": {
   "name": "python",
   "version": "3.13.6"
  }
 },
 "nbformat": 4,
 "nbformat_minor": 5
}
